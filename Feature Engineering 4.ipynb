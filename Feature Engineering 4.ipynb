{
 "cells": [
  {
   "cell_type": "code",
   "execution_count": 1,
   "id": "7b7f772a",
   "metadata": {},
   "outputs": [],
   "source": [
    "#In question 4 and 6 you will have to create a sample data on your own and for question 5 just establish the relationship \n",
    "#i.e relationship like age has any relation or not  between the variables"
   ]
  },
  {
   "cell_type": "code",
   "execution_count": 13,
   "id": "a0594e7e",
   "metadata": {},
   "outputs": [
    {
     "name": "stdout",
     "output_type": "stream",
     "text": [
      "The amount of hours are positively 75.15698532926905% related with the strudent's exam scores\n"
     ]
    }
   ],
   "source": [
    "#Answer 1:\n",
    "import pandas as pd\n",
    "import numpy as np\n",
    "from scipy.stats import pearsonr\n",
    "import matplotlib.pyplot as plt\n",
    "\n",
    "# Set seed for reproducibility\n",
    "np.random.seed(0)\n",
    "\n",
    "# Number of data points (students)\n",
    "n_students = 100\n",
    "\n",
    "# Simulating study hours (between 0 to 20 hours)\n",
    "study_hours = np.random.uniform(0, 20, n_students)\n",
    "\n",
    "# Simulating exam scores, assuming some positive correlation with study hours\n",
    "# The exam scores are a bit random but generally higher with more study hours\n",
    "exam_scores = np.random.normal(50 + 2 * study_hours, 10)\n",
    "\n",
    "# Create a DataFrame\n",
    "data = pd.DataFrame({\n",
    "    'Study Hours': study_hours,\n",
    "    'Exam Scores': exam_scores\n",
    "})\n",
    "correlation = data.corr(method='pearson')\n",
    "correlation\n",
    "\n",
    "if correlation.loc['Exam Scores','Study Hours'] > 0:\n",
    "    print(f\"The amount of hours are positively {correlation.loc['Exam Scores','Study Hours']*100}% related with the strudent's exam scores\")\n",
    "else:\n",
    "    print(f\"The amount of hours are negatively {correlation.loc['Exam Scores','Study Hours']*100}% related with the strudent's exam scores\")\n"
   ]
  },
  {
   "cell_type": "code",
   "execution_count": 17,
   "id": "a289f1cf",
   "metadata": {},
   "outputs": [
    {
     "name": "stdout",
     "output_type": "stream",
     "text": [
      "The amount of hours are negatively -3.2775277527752777% related with the individual's exam scores\n"
     ]
    }
   ],
   "source": [
    "#Answer 2:\n",
    "import numpy as np\n",
    "import pandas as pd\n",
    "\n",
    "np.random.seed(1)\n",
    "\n",
    "n_individuals = 100\n",
    "\n",
    "sleep_hours = np.random.uniform(low = 2, high = 7, size=n_individuals)\n",
    "satisfaction = np.random.uniform(1,10,n_individuals)\n",
    "\n",
    "df = pd.DataFrame({'Sleep Hours':sleep_hours,\n",
    "                   'Satisfaction rating':satisfaction\n",
    "                  })\n",
    "\n",
    "correlation = df.corr(method='spearman')\n",
    "\n",
    "if correlation.loc['Sleep Hours','Satisfaction rating'] > 0:\n",
    "    print(f\"The amount of hours are positively {correlation.loc['Sleep Hours','Satisfaction rating']*100}% related with the Satisfaction rating\")\n",
    "else:\n",
    "    print(f\"The amount of hours are negatively {correlation.loc['Sleep Hours','Satisfaction rating']*100}% related with the Satisfaction rating\")\n"
   ]
  },
  {
   "cell_type": "code",
   "execution_count": 2,
   "id": "337dcdec",
   "metadata": {},
   "outputs": [
    {
     "name": "stdout",
     "output_type": "stream",
     "text": [
      "Spearmen's correlation is -0.03277527752775278 and pearson's correlation is -0.02486610056557434 where spearmen is robust again outliers if any in data\n"
     ]
    }
   ],
   "source": [
    "#Answer 3:\n",
    "import numpy as np\n",
    "import pandas as pd\n",
    "\n",
    "np.random.seed(1)\n",
    "\n",
    "n_individuals = 100\n",
    "\n",
    "bmi = np.random.uniform(low = 12, high = 25, size=n_individuals)\n",
    "exercise_hours = np.random.uniform(1,2,n_individuals)\n",
    "\n",
    "df = pd.DataFrame({'BMI':bmi,\n",
    "                   'Exercise Hours':exercise_hours\n",
    "                  })\n",
    "corr2 = df.corr(method = 'spearman')\n",
    "corr1 = df.corr(method = 'pearson')\n",
    "\n",
    "print(f\"Spearmen's correlation is {corr2.loc['BMI','Exercise Hours']} and pearson's correlation is {corr1.loc['BMI','Exercise Hours']} where spearmen is robust again outliers if any in data\")"
   ]
  },
  {
   "cell_type": "code",
   "execution_count": 6,
   "id": "1343eb58",
   "metadata": {},
   "outputs": [
    {
     "name": "stdout",
     "output_type": "stream",
     "text": [
      "The amount of hours are positively 8.914657027018787% related with the individual's exam scores\n"
     ]
    }
   ],
   "source": [
    "#Answer 4:\n",
    "import numpy as np\n",
    "import pandas as pd\n",
    "\n",
    "np.random.seed(1)\n",
    "\n",
    "n_individuals = 50\n",
    "\n",
    "tv_hours = np.random.uniform(1,5,n_individuals)\n",
    "exercise_hours = np.random.uniform(1,3,n_individuals)\n",
    "\n",
    "df = pd.DataFrame({'TV Hours':tv_hours,'Exercise Hours':exercise_hours})\n",
    "\n",
    "p_corr = df.corr(method='pearson')\n",
    "\n",
    "if p_corr.loc['TV Hours','Exercise Hours'] > 0:\n",
    "    print(f\"The amount of TV Hours are positively {p_corr.loc['TV Hours','Exercise Hours']*100}% related with the Exercise Hours\")\n",
    "else:\n",
    "    print(f\"The amount of TV Hours are negatively {p_corr.loc['TV Hours','Exercise Hours']*100}% related with the Exercise Hours\")\n"
   ]
  },
  {
   "cell_type": "code",
   "execution_count": 25,
   "id": "51d567fc",
   "metadata": {},
   "outputs": [
    {
     "name": "stdout",
     "output_type": "stream",
     "text": [
      "Soft Drink Preference_Coke           -0.837240\n",
      "Soft Drink Preference_Mountain Dew    0.394132\n",
      "Soft Drink Preference_Pepsi           0.576439\n",
      "Name: Age, dtype: float64\n"
     ]
    }
   ],
   "source": [
    "#Answer 5:\n",
    "import numpy as np\n",
    "import pandas as pd\n",
    "from sklearn.preprocessing import OneHotEncoder\n",
    "\n",
    "df = pd.DataFrame({'Age':[25,42,37,19,31,28],'Soft Drink Preference':['Coke','Pepsi','Mountain Dew','Coke','Pepsi','Coke']})\n",
    "\n",
    "encoder = OneHotEncoder(sparse_output=False)\n",
    "encoded_data = encoder.fit_transform(df[['Soft Drink Preference']])\n",
    "\n",
    "encoded_df = pd.DataFrame(encoded_data, columns=encoder.get_feature_names_out(['Soft Drink Preference']))\n",
    "df = pd.concat([df, encoded_df], axis=1).drop('Soft Drink Preference', axis=1)\n",
    "\n",
    "correlation_matrix = df.corr()\n",
    "age_soft_drink_correlation = correlation_matrix.loc['Age', encoder.get_feature_names_out(['Soft Drink Preference'])]\n",
    "\n",
    "print(age_soft_drink_correlation)\n"
   ]
  },
  {
   "cell_type": "code",
   "execution_count": 30,
   "id": "a20a0b76",
   "metadata": {},
   "outputs": [
    {
     "name": "stdout",
     "output_type": "stream",
     "text": [
      "The amount of Calls Per Day are negatively -13.107990414822462% related with the Sales Per Week\n"
     ]
    }
   ],
   "source": [
    "#Answer 6:\n",
    "import numpy as np\n",
    "import pandas as pd\n",
    "\n",
    "np.random.seed(2)\n",
    "\n",
    "sales_per_day = np.random.randint(1,30,30)\n",
    "sales_call_per_day = np.random.randint(0,70,30)\n",
    "\n",
    "df = pd.DataFrame({\"Calls Per Day\":sales_call_per_day,\"Sales Per Week\":sales_per_day})\n",
    "\n",
    "corr_p = df.corr(method='pearson')\n",
    "\n",
    "if corr_p.loc[\"Calls Per Day\",\"Sales Per Week\"] > 0:\n",
    "    print(f'The amount of Calls Per Day are positively {corr_p.loc[\"Calls Per Day\",\"Sales Per Week\"]*100}% related with the Sales Per Week')\n",
    "else:\n",
    "    print(f'The amount of Calls Per Day are negatively {corr_p.loc[\"Calls Per Day\",\"Sales Per Week\"]*100}% related with the Sales Per Week')\n"
   ]
  },
  {
   "cell_type": "code",
   "execution_count": null,
   "id": "9be73306",
   "metadata": {},
   "outputs": [],
   "source": []
  }
 ],
 "metadata": {
  "kernelspec": {
   "display_name": "Python 3 (ipykernel)",
   "language": "python",
   "name": "python3"
  },
  "language_info": {
   "codemirror_mode": {
    "name": "ipython",
    "version": 3
   },
   "file_extension": ".py",
   "mimetype": "text/x-python",
   "name": "python",
   "nbconvert_exporter": "python",
   "pygments_lexer": "ipython3",
   "version": "3.11.3"
  }
 },
 "nbformat": 4,
 "nbformat_minor": 5
}
